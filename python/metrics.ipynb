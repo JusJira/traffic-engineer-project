{
 "cells": [
  {
   "cell_type": "code",
   "execution_count": null,
   "metadata": {},
   "outputs": [
    {
     "name": "stdout",
     "output_type": "stream",
     "text": [
      "Stats collected and written to docker_stats.csv\n"
     ]
    }
   ],
   "source": [
    "import subprocess\n",
    "import time\n",
    "import csv\n",
    "from datetime import datetime\n",
    "\n",
    "# Function to collect Docker stats\n",
    "def collect_docker_stats(container_name, duration=60, interval=1):\n",
    "    stats = []\n",
    "    cmd = f\"docker stats {container_name} --no-stream --format '{{{{json .}}}}'\"\n",
    "    \n",
    "    start_time = time.time()\n",
    "    while time.time() - start_time < duration:\n",
    "        result = subprocess.run(cmd, shell=True, capture_output=True, text=True)\n",
    "        if result.returncode == 0:\n",
    "            stat = result.stdout.strip()\n",
    "            timestamp = datetime.now().isoformat()\n",
    "            stats.append((timestamp, stat))\n",
    "        else:\n",
    "            print(f\"Error collecting stats: {result.stderr}\")\n",
    "        time.sleep(interval)\n",
    "    \n",
    "    return stats\n",
    "\n",
    "# Function to write stats to CSV\n",
    "def write_stats_to_csv(stats, filename=\"docker_stats.csv\"):\n",
    "    with open(filename, mode='w', newline='') as file:\n",
    "        writer = csv.writer(file)\n",
    "        writer.writerow([\"timestamp\", \"cpu_usage\", \"memory_usage\", \"memory_limit\", \"memory_percent\", \"net_io\", \"block_io\", \"pids\"])\n",
    "        \n",
    "        for timestamp, stat in stats:\n",
    "            stat_dict = eval(stat)  # Convert JSON string to dictionary\n",
    "            writer.writerow([\n",
    "                timestamp,\n",
    "                stat_dict.get(\"CPUPerc\", \"\"),\n",
    "                stat_dict.get(\"MemUsage\", \"\").split('/')[0].strip(),\n",
    "                stat_dict.get(\"MemUsage\", \"\").split('/')[1].strip(),\n",
    "                stat_dict.get(\"MemPerc\", \"\"),\n",
    "                stat_dict.get(\"NetIO\", \"\"),\n",
    "                stat_dict.get(\"BlockIO\", \"\"),\n",
    "                stat_dict.get(\"PIDs\", \"\")\n",
    "            ])\n",
    "\n",
    "if __name__ == \"__main__\":\n",
    "    container_name = \"traffic-golang-server-1-1\"  # Replace with your container name\n",
    "    # container_name = \"traffic-golang-server-2-a-1\"  # Replace with your container name\n",
    "    duration = 60  # Duration to collect stats (in seconds)\n",
    "    interval = 1  # Interval between stats collection (in seconds)\n",
    "    \n",
    "    stats = collect_docker_stats(container_name, duration, interval)\n",
    "    write_stats_to_csv(stats)\n",
    "    print(f\"Stats collected and written to docker_stats.csv\")"
   ]
  }
 ],
 "metadata": {
  "kernelspec": {
   "display_name": ".venv",
   "language": "python",
   "name": "python3"
  },
  "language_info": {
   "codemirror_mode": {
    "name": "ipython",
    "version": 3
   },
   "file_extension": ".py",
   "mimetype": "text/x-python",
   "name": "python",
   "nbconvert_exporter": "python",
   "pygments_lexer": "ipython3",
   "version": "3.13.0"
  }
 },
 "nbformat": 4,
 "nbformat_minor": 2
}
